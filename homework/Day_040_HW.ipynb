{
 "cells": [
  {
   "cell_type": "markdown",
   "metadata": {},
   "source": [
    "## [作業重點]\n",
    "使用 Sklearn 中的 Lasso, Ridge 模型，來訓練各種資料集，務必了解送進去模型訓練的**資料型態**為何，也請了解模型中各項參數的意義。\n",
    "\n",
    "機器學習的模型非常多種，但要訓練的資料多半有固定的格式，確保你了解訓練資料的格式為何，這樣在應用新模型時，就能夠最快的上手開始訓練！"
   ]
  },
  {
   "cell_type": "markdown",
   "metadata": {},
   "source": [
    "## 練習時間\n",
    "試著使用 sklearn datasets 的其他資料集 (boston, ...)，來訓練自己的線性迴歸模型，並加上適當的正則化來觀察訓練情形。"
   ]
  },
  {
   "cell_type": "code",
   "execution_count": 59,
   "metadata": {},
   "outputs": [],
   "source": [
    "import numpy as np\n",
    "from sklearn.linear_model import LinearRegression\n",
    "from sklearn.model_selection import train_test_split\n",
    "from sklearn import datasets"
   ]
  },
  {
   "cell_type": "code",
   "execution_count": 60,
   "metadata": {},
   "outputs": [],
   "source": [
    "boston=datasets.load_boston()\n",
    "trainx,testx,trainy,testy=train_test_split(boston.data,boston.target,test_size=0.1)"
   ]
  },
  {
   "cell_type": "code",
   "execution_count": 35,
   "metadata": {},
   "outputs": [],
   "source": [
    "reg=LinearRegression()\n"
   ]
  },
  {
   "cell_type": "code",
   "execution_count": 38,
   "metadata": {},
   "outputs": [
    {
     "data": {
      "text/plain": [
       "LinearRegression(copy_X=True, fit_intercept=True, n_jobs=None, normalize=False)"
      ]
     },
     "execution_count": 38,
     "metadata": {},
     "output_type": "execute_result"
    }
   ],
   "source": [
    "reg.fit(trainx,trainy)"
   ]
  },
  {
   "cell_type": "code",
   "execution_count": 41,
   "metadata": {},
   "outputs": [],
   "source": [
    "py_pred = reg.predict(testx)"
   ]
  },
  {
   "cell_type": "code",
   "execution_count": 44,
   "metadata": {},
   "outputs": [
    {
     "data": {
      "text/plain": [
       "array([18.77017155, 16.99192197, 35.60161842, 31.14027318, 25.39000217,\n",
       "       20.33684136, 11.40008438, 25.79238848, 38.06584703,  8.37961135,\n",
       "       24.83160027, 23.90237803, 25.90822266, 11.55623704, 22.66811694,\n",
       "       26.27388701, 12.90153316,  3.3180812 , 28.78201222, 22.78396451,\n",
       "       21.04118329, 17.08810867, 37.00531828, 21.25638545,  1.24943838,\n",
       "       33.62258927, 15.75411756, 19.30335964, 27.38713488, 16.66326536,\n",
       "       11.37963959, 24.19909296, 32.13313396, 23.87163106, 25.50539214,\n",
       "       33.10738405, 15.7311403 , 35.85685758, 39.66467609, 27.39015942,\n",
       "       27.930623  , 28.21404357, 18.86095711, 16.98997739,  6.10122766,\n",
       "       16.40395371, 26.8617578 , 28.65134873, 16.04152206, 31.05717438,\n",
       "       24.94534041])"
      ]
     },
     "execution_count": 44,
     "metadata": {},
     "output_type": "execute_result"
    }
   ],
   "source": [
    "py_pred"
   ]
  },
  {
   "cell_type": "code",
   "execution_count": 46,
   "metadata": {},
   "outputs": [
    {
     "data": {
      "text/plain": [
       "array([-1.06837052e-01,  4.86447699e-02,  1.57318805e-03,  2.91139291e+00,\n",
       "       -1.69474451e+01,  3.54158179e+00,  3.16870983e-04, -1.52284128e+00,\n",
       "        3.17941719e-01, -1.28035057e-02, -9.20158709e-01,  9.49521159e-03,\n",
       "       -5.71677402e-01])"
      ]
     },
     "execution_count": 46,
     "metadata": {},
     "output_type": "execute_result"
    }
   ],
   "source": [
    "reg.coef_"
   ]
  },
  {
   "cell_type": "code",
   "execution_count": 61,
   "metadata": {},
   "outputs": [],
   "source": [
    "from sklearn.metrics import mean_squared_error, r2_score"
   ]
  },
  {
   "cell_type": "code",
   "execution_count": 52,
   "metadata": {
    "scrolled": true
   },
   "outputs": [
    {
     "data": {
      "text/plain": [
       "26.390087176980074"
      ]
     },
     "execution_count": 52,
     "metadata": {},
     "output_type": "execute_result"
    }
   ],
   "source": [
    "mean_squared_error(testy, py_pred)"
   ]
  },
  {
   "cell_type": "code",
   "execution_count": 62,
   "metadata": {},
   "outputs": [],
   "source": [
    "lasso = linear_model.Lasso(alpha=1.0)"
   ]
  },
  {
   "cell_type": "code",
   "execution_count": 54,
   "metadata": {},
   "outputs": [
    {
     "data": {
      "text/plain": [
       "Lasso(alpha=1.0, copy_X=True, fit_intercept=True, max_iter=1000,\n",
       "      normalize=False, positive=False, precompute=False, random_state=None,\n",
       "      selection='cyclic', tol=0.0001, warm_start=False)"
      ]
     },
     "execution_count": 54,
     "metadata": {},
     "output_type": "execute_result"
    }
   ],
   "source": [
    "lasso.fit(trainx,trainy)"
   ]
  },
  {
   "cell_type": "code",
   "execution_count": 55,
   "metadata": {},
   "outputs": [],
   "source": [
    "y_pred = lasso.predict(testx)"
   ]
  },
  {
   "cell_type": "code",
   "execution_count": 56,
   "metadata": {},
   "outputs": [
    {
     "data": {
      "text/plain": [
       "array([19.85178391, 13.67757127, 33.55788105, 28.55461773, 26.37537743,\n",
       "       20.97570073, 11.9380175 , 26.84152994, 33.9686708 , 12.29644274,\n",
       "       25.33394579, 24.35982871, 25.92530035, 10.40254929, 23.53541568,\n",
       "       25.98698822, 14.80800631,  2.5411661 , 28.48911802, 25.44957669,\n",
       "       24.08680335, 16.59812589, 33.71537044, 22.25593319,  0.69193176,\n",
       "       30.71156764, 16.68686873, 20.52398832, 28.47740767, 15.19192203,\n",
       "       11.25971437, 25.29957286, 28.18629004, 25.28299752, 25.52419738,\n",
       "       31.04363468, 17.84923125, 33.00897101, 33.36984593, 26.6948473 ,\n",
       "       28.34734701, 27.6669894 , 24.16280366, 17.2157685 ,  8.41857077,\n",
       "       15.87388999, 24.05510092, 26.49384669, 17.56544654, 29.37821503,\n",
       "       24.60001368])"
      ]
     },
     "execution_count": 56,
     "metadata": {},
     "output_type": "execute_result"
    }
   ],
   "source": [
    "y_pred"
   ]
  },
  {
   "cell_type": "code",
   "execution_count": 57,
   "metadata": {},
   "outputs": [
    {
     "data": {
      "text/plain": [
       "array([-0.06628834,  0.05510682, -0.        ,  0.        , -0.        ,\n",
       "        0.67657805,  0.01882272, -0.77092071,  0.28517945, -0.01602104,\n",
       "       -0.6779322 ,  0.00842789, -0.80644415])"
      ]
     },
     "execution_count": 57,
     "metadata": {},
     "output_type": "execute_result"
    }
   ],
   "source": [
    "lasso.coef_"
   ]
  },
  {
   "cell_type": "code",
   "execution_count": 58,
   "metadata": {},
   "outputs": [
    {
     "data": {
      "text/plain": [
       "34.10488791994309"
      ]
     },
     "execution_count": 58,
     "metadata": {},
     "output_type": "execute_result"
    }
   ],
   "source": [
    "mean_squared_error(testy, y_pred)"
   ]
  },
  {
   "cell_type": "code",
   "execution_count": 68,
   "metadata": {},
   "outputs": [],
   "source": [
    "lasso2= linear_model.Lasso(alpha=5.0)"
   ]
  },
  {
   "cell_type": "code",
   "execution_count": 69,
   "metadata": {},
   "outputs": [
    {
     "data": {
      "text/plain": [
       "Lasso(alpha=5.0, copy_X=True, fit_intercept=True, max_iter=1000,\n",
       "      normalize=False, positive=False, precompute=False, random_state=None,\n",
       "      selection='cyclic', tol=0.0001, warm_start=False)"
      ]
     },
     "execution_count": 69,
     "metadata": {},
     "output_type": "execute_result"
    }
   ],
   "source": [
    "lasso2.fit(trainx,trainy)"
   ]
  },
  {
   "cell_type": "code",
   "execution_count": 65,
   "metadata": {},
   "outputs": [],
   "source": [
    "y2_pred = lasso2.predict(testx)"
   ]
  },
  {
   "cell_type": "code",
   "execution_count": 70,
   "metadata": {},
   "outputs": [
    {
     "data": {
      "text/plain": [
       "array([19.95424669, 24.84080253, 26.33411603, 24.85996543, 10.17099224,\n",
       "       12.30043929, 22.18993915, 20.39921708, 20.42095404, 34.82416145,\n",
       "       10.50964556, 17.83619641, 31.31931352, 30.45119608, 30.28005266,\n",
       "       23.06856232, 20.94219214, 31.40906634, 27.60167291, 17.81504295,\n",
       "       10.67823911, 23.8520961 , 25.30467002, 12.84526803, 27.36980682,\n",
       "       19.33394806, 30.63671365, 19.58194107, 24.65682473, 28.07379971,\n",
       "       23.30747087, 29.88325149, 10.55801908, 26.83689627, 21.21571656,\n",
       "       30.64981876, 22.01132067, 28.3416284 , 27.12980157, 27.86420504,\n",
       "       21.45095537, 26.13666704, 26.61136446, 21.77467074, 27.69801482,\n",
       "       25.33128031, 23.65331336, 25.03547461, 24.47606993, 30.6504916 ,\n",
       "       26.13810317])"
      ]
     },
     "execution_count": 70,
     "metadata": {},
     "output_type": "execute_result"
    }
   ],
   "source": [
    "y2_pred"
   ]
  },
  {
   "cell_type": "code",
   "execution_count": 71,
   "metadata": {},
   "outputs": [
    {
     "data": {
      "text/plain": [
       "26.740806186010683"
      ]
     },
     "execution_count": 71,
     "metadata": {},
     "output_type": "execute_result"
    }
   ],
   "source": [
    "mean_squared_error(testy, y2_pred)"
   ]
  },
  {
   "cell_type": "code",
   "execution_count": 72,
   "metadata": {},
   "outputs": [
    {
     "data": {
      "text/plain": [
       "array([-0.        ,  0.04816339, -0.        ,  0.        ,  0.        ,\n",
       "        0.        ,  0.03164432, -0.        ,  0.        , -0.00760329,\n",
       "       -0.        ,  0.00655979, -0.75241677])"
      ]
     },
     "execution_count": 72,
     "metadata": {},
     "output_type": "execute_result"
    }
   ],
   "source": [
    "lasso2.coef_"
   ]
  },
  {
   "cell_type": "code",
   "execution_count": null,
   "metadata": {},
   "outputs": [],
   "source": []
  }
 ],
 "metadata": {
  "kernelspec": {
   "display_name": "Python 3",
   "language": "python",
   "name": "python3"
  },
  "language_info": {
   "codemirror_mode": {
    "name": "ipython",
    "version": 3
   },
   "file_extension": ".py",
   "mimetype": "text/x-python",
   "name": "python",
   "nbconvert_exporter": "python",
   "pygments_lexer": "ipython3",
   "version": "3.7.3"
  }
 },
 "nbformat": 4,
 "nbformat_minor": 2
}
